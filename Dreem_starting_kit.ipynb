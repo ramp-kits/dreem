{
 "cells": [
  {
   "cell_type": "markdown",
   "metadata": {},
   "source": [
    "# Dreem slow oscillation prediction "
   ]
  },
  {
   "cell_type": "markdown",
   "metadata": {},
   "source": [
    "## Table of contents\n",
    "\n",
    "0. [Prerequisites](#Software-prerequisites)\n",
    "1. [Introduction](#Introduction:-what-is-this-challenge-about)\n",
    "2. [Aim of the challenge](#Aim-of-challenge)\n",
    "3. [Workflow](#Workflow)\n",
    "4. [Starting kit](#Simple-Starting-kit)\n",
    "5. [Evaluation](#Evaluation)\n",
    "6. [Submission](#Submitting-to-the-online-challenge:-ramp.studio)\n",
    "7. [More information](#More-information)\n",
    "8. [Questions](#Questions)"
   ]
  },
  {
   "cell_type": "markdown",
   "metadata": {},
   "source": [
    "## Software prerequisites"
   ]
  },
  {
   "cell_type": "markdown",
   "metadata": {},
   "source": [
    "This starting kit requires the following dependencies:\n",
    "\n",
    "* `numpy`\n",
    "* `scipy`\n",
    "* `pandas`\n",
    "* `scikit-learn`\n",
    "* `h5py`\n",
    "* `matplolib`\n",
    "* `jupyter`\n",
    "* `ramp-workflow`\n"
   ]
  },
  {
   "cell_type": "markdown",
   "metadata": {},
   "source": [
    "## Introduction: what is this challenge about"
   ]
  },
  {
   "cell_type": "markdown",
   "metadata": {},
   "source": [
    "### Measuring Sleep\n",
    "\n",
    "The measurment of sleep is usually done in a sleep laboratory. Various electrodes are attached to the head to measure physiological signals. Electrical activity in the brain is measured by electroencephalography (EEG). Muscle activity is recorded using electromyography (EMG), because muscle tone also differs between wakefulness and sleep. Eye movements during sleep are measured using electro-oculography (EOG). Other sensors can be added (pulseoxymeter, airflow etc.) These procedure is called polysomnographie (PSG) and allows to analyse the state of the patient during sleep. It also allows to track sleep related disease such as sleep apnea or restless-leg syndrom.\n",
    "\n",
    "### Dreem Headband\n",
    "\n",
    "The [Dreem headband](https://dreem.com/en/) is a device able to measure sleep at home. It is easy to use and more comfortable than a classic PSG. Its aims to help people track and improve their sleep. The Dreem headband uses three kind of sensors: EEG electrodes, accelerometer and pulseoximeter. Hence, it is able to measure brain activity, position, respiration, heartrate and movement all through the night. The device is also able to send sounds using bone conduction. Signals are analyzed online throughout the night and the device is able to perform sound stimulation to enhance deep sleep quality at different steps of the night: falling asleep, deep sleep and awakening. \n",
    "\n",
    "#### Normal sleep\n",
    "\n",
    "Sleep progresses in cycles that involve multiple sleep stages:\n",
    "\n",
    "* wake\n",
    "* light sleep (non-REM stage 1 and 2)\n",
    "* deep sleep (non-REM stage 3)\n",
    "* REM sleep\n",
    "\n",
    "Different sleep stages are associated with different physiological functions. The represenation of the sleep stages through the night is called an hypnogram (example shown below) and is built from the physiological signals recorded by PSG and analyzed by window of 30seconds. \n",
    "\n",
    "\n",
    "![](https://www.researchgate.net/profile/Seithikurippu_R_Pandi-Perumal/publication/305754675/figure/fig1/AS:391434457894913@1470336655208/A-hypnogram-showing-normal-distribution-of-sleep-stages.png)\n",
    "\n",
    "\n",
    "#### Deep Sleep\n",
    "\n",
    "Deep sleep (also called slow wave sleep) occurs mainly in the first hours of sleep. It is associated with memory consolidation, energy restoration, hormone releasing. Electroencephalographic measurement in deep sleep is characterized by slow oscillations: trains of high magnitude and low frequency waves (1-4 Hz).\n",
    "\n",
    "#### Deep sleep enhancement\n",
    "\n",
    "Deep Sleep can be enhanced by inducing slow oscillations through various kind of stimulations (auditory, visual, magnetic etc. see this publication). The Dreem headband is able to perform such sound stimulation during deep sleep.\n",
    "\n"
   ]
  },
  {
   "cell_type": "markdown",
   "metadata": {},
   "source": [
    "## Aim of challenge\n",
    "In this challenge, data consists of EEG signals acquired on the Dreem headband in sham condition i.e. without any kind of sound stimulations, 'normal condition'.\n",
    "\n",
    "In this dataset, we try to predict whether or not a slow oscillation will be followed by another one in sham condition (without any stimulation). This will allow us to:\n",
    "\n",
    "* Predict normal brain activity\n",
    "* Know when it’s interesting to stimulate\n",
    "* Better quantify the impact of an individual stimulation by comparing to what would have occurred without stimulation\n",
    "\n",
    "The metric used to assess the model predictions is the [sk-learn accuracy score](https://scikit-learn.org/stable/modules/generated/sklearn.metrics.accuracy_score.html#sklearn.metrics.accuracy_score) - which returns the fraction of correctly classified samples."
   ]
  },
  {
   "cell_type": "markdown",
   "metadata": {},
   "source": [
    "## The data\n",
    "\n",
    "### Features\n",
    "\n",
    "Each sample (row) provides information about previous slow oscillations, the current oscillation, sleep duration details and EEG signal from 10 seconds of recording starting 10 seconds before the end of the current slow oscillation. Data provided consists of a N x 1261 matrix.\n",
    "\n",
    "Columns:\n",
    "\n",
    "1. `prev_SOs` - Number of previous slow oscillations\n",
    "2. `mean_amp` - Mean amplitude of previous slow oscillations\n",
    "3. `mean_dur` - Mean duration of previous slow oscillations\n",
    "4. `amp_SO` - Amplitude of the current slow oscillation\n",
    "5. `dur_SO` - Duration of the current slow oscillation\n",
    "6. `sleep_stage` - Current Sleep stage\n",
    "7. `sleep_time` - Time elapsed since the person fell asleep\n",
    "8. `deepsleep_time` - Time spent in deep sleep so far\n",
    "9. `lightsleep_time` - Time spent in light sleep so far\n",
    "10. `remsleep_time` - Time spent in rem sleep so far\n",
    "11. `wakesleep_time` - Time spent in wake sleep so far\n",
    "\n",
    "EEG columns:\n",
    "\n",
    "12-1261. `EEG0` to `EEG1249` - EEG signal for 10 seconds (sampling frequency: 125Hz -> 1250 data points)\n",
    "\n",
    "### Labels\n",
    "\n",
    "The prediction is a label in {0, 1, 2}.\n",
    "\n",
    "0. no slow oscillation is starting in the following second.\n",
    "1. a slow oscillation of low amplitude started in the following second.\n",
    "2. a slow oscillation of high amplitude started in the following second\n",
    "\n",
    "High and low are defined with respect with the mean amplitude of slow oscillations measured on the whole record."
   ]
  },
  {
   "cell_type": "markdown",
   "metadata": {},
   "source": [
    "### Import data\n",
    "\n",
    "* `data_train` - pandas dataframe\n",
    "* `y_train` - numpy array"
   ]
  },
  {
   "cell_type": "code",
   "execution_count": 1,
   "metadata": {},
   "outputs": [],
   "source": [
    "import numpy as np\n",
    "import pandas as pd\n",
    "import matplotlib.pyplot as plt\n",
    "%matplotlib inline"
   ]
  },
  {
   "cell_type": "code",
   "execution_count": 2,
   "metadata": {},
   "outputs": [],
   "source": [
    "from problem import get_train_data\n",
    "\n",
    "data_train, y_train = get_train_data()"
   ]
  },
  {
   "cell_type": "code",
   "execution_count": 7,
   "metadata": {},
   "outputs": [
    {
     "data": {
      "text/html": [
       "<div>\n",
       "<style scoped>\n",
       "    .dataframe tbody tr th:only-of-type {\n",
       "        vertical-align: middle;\n",
       "    }\n",
       "\n",
       "    .dataframe tbody tr th {\n",
       "        vertical-align: top;\n",
       "    }\n",
       "\n",
       "    .dataframe thead th {\n",
       "        text-align: right;\n",
       "    }\n",
       "</style>\n",
       "<table border=\"1\" class=\"dataframe\">\n",
       "  <thead>\n",
       "    <tr style=\"text-align: right;\">\n",
       "      <th></th>\n",
       "      <th>prev_SOs</th>\n",
       "      <th>mean_amp</th>\n",
       "      <th>mean_dur</th>\n",
       "      <th>amp_SO</th>\n",
       "      <th>dur_SO</th>\n",
       "      <th>sleep_stage</th>\n",
       "      <th>sleep_time</th>\n",
       "      <th>deepsleep_time</th>\n",
       "      <th>lightsleep_time</th>\n",
       "      <th>remsleep_time</th>\n",
       "      <th>...</th>\n",
       "      <th>EEG1240</th>\n",
       "      <th>EEG1241</th>\n",
       "      <th>EEG1242</th>\n",
       "      <th>EEG1243</th>\n",
       "      <th>EEG1244</th>\n",
       "      <th>EEG1245</th>\n",
       "      <th>EEG1246</th>\n",
       "      <th>EEG1247</th>\n",
       "      <th>EEG1248</th>\n",
       "      <th>EEG1249</th>\n",
       "    </tr>\n",
       "  </thead>\n",
       "  <tbody>\n",
       "    <tr>\n",
       "      <th>0</th>\n",
       "      <td>258</td>\n",
       "      <td>146</td>\n",
       "      <td>285</td>\n",
       "      <td>191</td>\n",
       "      <td>409</td>\n",
       "      <td>2</td>\n",
       "      <td>14170</td>\n",
       "      <td>1710</td>\n",
       "      <td>3900</td>\n",
       "      <td>900</td>\n",
       "      <td>...</td>\n",
       "      <td>6</td>\n",
       "      <td>8</td>\n",
       "      <td>18</td>\n",
       "      <td>29</td>\n",
       "      <td>35</td>\n",
       "      <td>32</td>\n",
       "      <td>24</td>\n",
       "      <td>14</td>\n",
       "      <td>-2</td>\n",
       "      <td>-21</td>\n",
       "    </tr>\n",
       "    <tr>\n",
       "      <th>1</th>\n",
       "      <td>333</td>\n",
       "      <td>155</td>\n",
       "      <td>320</td>\n",
       "      <td>158</td>\n",
       "      <td>461</td>\n",
       "      <td>2</td>\n",
       "      <td>14049</td>\n",
       "      <td>2430</td>\n",
       "      <td>4080</td>\n",
       "      <td>30</td>\n",
       "      <td>...</td>\n",
       "      <td>17</td>\n",
       "      <td>17</td>\n",
       "      <td>17</td>\n",
       "      <td>15</td>\n",
       "      <td>15</td>\n",
       "      <td>14</td>\n",
       "      <td>8</td>\n",
       "      <td>0</td>\n",
       "      <td>-7</td>\n",
       "      <td>-16</td>\n",
       "    </tr>\n",
       "    <tr>\n",
       "      <th>2</th>\n",
       "      <td>120</td>\n",
       "      <td>168</td>\n",
       "      <td>352</td>\n",
       "      <td>120</td>\n",
       "      <td>264</td>\n",
       "      <td>3</td>\n",
       "      <td>13791</td>\n",
       "      <td>2130</td>\n",
       "      <td>420</td>\n",
       "      <td>0</td>\n",
       "      <td>...</td>\n",
       "      <td>22</td>\n",
       "      <td>18</td>\n",
       "      <td>15</td>\n",
       "      <td>11</td>\n",
       "      <td>10</td>\n",
       "      <td>7</td>\n",
       "      <td>0</td>\n",
       "      <td>-13</td>\n",
       "      <td>-29</td>\n",
       "      <td>-43</td>\n",
       "    </tr>\n",
       "    <tr>\n",
       "      <th>3</th>\n",
       "      <td>312</td>\n",
       "      <td>160</td>\n",
       "      <td>278</td>\n",
       "      <td>176</td>\n",
       "      <td>445</td>\n",
       "      <td>3</td>\n",
       "      <td>4142</td>\n",
       "      <td>2310</td>\n",
       "      <td>5280</td>\n",
       "      <td>390</td>\n",
       "      <td>...</td>\n",
       "      <td>43</td>\n",
       "      <td>37</td>\n",
       "      <td>27</td>\n",
       "      <td>17</td>\n",
       "      <td>5</td>\n",
       "      <td>-3</td>\n",
       "      <td>-12</td>\n",
       "      <td>-20</td>\n",
       "      <td>-30</td>\n",
       "      <td>-38</td>\n",
       "    </tr>\n",
       "    <tr>\n",
       "      <th>4</th>\n",
       "      <td>85</td>\n",
       "      <td>140</td>\n",
       "      <td>303</td>\n",
       "      <td>143</td>\n",
       "      <td>232</td>\n",
       "      <td>3</td>\n",
       "      <td>9782</td>\n",
       "      <td>0</td>\n",
       "      <td>0</td>\n",
       "      <td>0</td>\n",
       "      <td>...</td>\n",
       "      <td>15</td>\n",
       "      <td>12</td>\n",
       "      <td>4</td>\n",
       "      <td>2</td>\n",
       "      <td>-1</td>\n",
       "      <td>-4</td>\n",
       "      <td>-7</td>\n",
       "      <td>-9</td>\n",
       "      <td>-15</td>\n",
       "      <td>-21</td>\n",
       "    </tr>\n",
       "  </tbody>\n",
       "</table>\n",
       "<p>5 rows × 1261 columns</p>\n",
       "</div>"
      ],
      "text/plain": [
       "   prev_SOs  mean_amp  mean_dur  amp_SO  dur_SO  sleep_stage  sleep_time  \\\n",
       "0       258       146       285     191     409            2       14170   \n",
       "1       333       155       320     158     461            2       14049   \n",
       "2       120       168       352     120     264            3       13791   \n",
       "3       312       160       278     176     445            3        4142   \n",
       "4        85       140       303     143     232            3        9782   \n",
       "\n",
       "   deepsleep_time  lightsleep_time  remsleep_time  ...  EEG1240  EEG1241  \\\n",
       "0            1710             3900            900  ...        6        8   \n",
       "1            2430             4080             30  ...       17       17   \n",
       "2            2130              420              0  ...       22       18   \n",
       "3            2310             5280            390  ...       43       37   \n",
       "4               0                0              0  ...       15       12   \n",
       "\n",
       "   EEG1242  EEG1243  EEG1244  EEG1245  EEG1246  EEG1247  EEG1248  EEG1249  \n",
       "0       18       29       35       32       24       14       -2      -21  \n",
       "1       17       15       15       14        8        0       -7      -16  \n",
       "2       15       11       10        7        0      -13      -29      -43  \n",
       "3       27       17        5       -3      -12      -20      -30      -38  \n",
       "4        4        2       -1       -4       -7       -9      -15      -21  \n",
       "\n",
       "[5 rows x 1261 columns]"
      ]
     },
     "execution_count": 7,
     "metadata": {},
     "output_type": "execute_result"
    }
   ],
   "source": [
    "data_train.head()"
   ]
  },
  {
   "cell_type": "code",
   "execution_count": 8,
   "metadata": {},
   "outputs": [
    {
     "data": {
      "text/plain": [
       "(209307, 1261)"
      ]
     },
     "execution_count": 8,
     "metadata": {},
     "output_type": "execute_result"
    }
   ],
   "source": [
    "data_train.shape"
   ]
  },
  {
   "cell_type": "code",
   "execution_count": 47,
   "metadata": {},
   "outputs": [
    {
     "data": {
      "text/html": [
       "<div>\n",
       "<style scoped>\n",
       "    .dataframe tbody tr th:only-of-type {\n",
       "        vertical-align: middle;\n",
       "    }\n",
       "\n",
       "    .dataframe tbody tr th {\n",
       "        vertical-align: top;\n",
       "    }\n",
       "\n",
       "    .dataframe thead th {\n",
       "        text-align: right;\n",
       "    }\n",
       "</style>\n",
       "<table border=\"1\" class=\"dataframe\">\n",
       "  <thead>\n",
       "    <tr style=\"text-align: right;\">\n",
       "      <th></th>\n",
       "      <th>prev_SOs</th>\n",
       "      <th>mean_amp</th>\n",
       "      <th>mean_dur</th>\n",
       "      <th>amp_SO</th>\n",
       "      <th>dur_SO</th>\n",
       "      <th>sleep_stage</th>\n",
       "      <th>sleep_time</th>\n",
       "      <th>deepsleep_time</th>\n",
       "      <th>lightsleep_time</th>\n",
       "      <th>remsleep_time</th>\n",
       "      <th>wakesleep_time</th>\n",
       "    </tr>\n",
       "  </thead>\n",
       "  <tbody>\n",
       "    <tr>\n",
       "      <th>count</th>\n",
       "      <td>209307.000000</td>\n",
       "      <td>209307.000000</td>\n",
       "      <td>209307.000000</td>\n",
       "      <td>209307.000000</td>\n",
       "      <td>209307.000000</td>\n",
       "      <td>209307.000000</td>\n",
       "      <td>209307.000000</td>\n",
       "      <td>209307.000000</td>\n",
       "      <td>209307.000000</td>\n",
       "      <td>209307.000000</td>\n",
       "      <td>209307.000000</td>\n",
       "    </tr>\n",
       "    <tr>\n",
       "      <th>mean</th>\n",
       "      <td>318.905775</td>\n",
       "      <td>159.584147</td>\n",
       "      <td>294.731954</td>\n",
       "      <td>165.097106</td>\n",
       "      <td>303.440578</td>\n",
       "      <td>2.497246</td>\n",
       "      <td>9972.214116</td>\n",
       "      <td>2790.530751</td>\n",
       "      <td>3666.962118</td>\n",
       "      <td>1160.271467</td>\n",
       "      <td>1566.932019</td>\n",
       "    </tr>\n",
       "    <tr>\n",
       "      <th>std</th>\n",
       "      <td>278.287426</td>\n",
       "      <td>14.197175</td>\n",
       "      <td>30.417886</td>\n",
       "      <td>48.555057</td>\n",
       "      <td>81.215447</td>\n",
       "      <td>0.499994</td>\n",
       "      <td>7653.116529</td>\n",
       "      <td>2398.602233</td>\n",
       "      <td>3683.926816</td>\n",
       "      <td>1658.513102</td>\n",
       "      <td>1307.319302</td>\n",
       "    </tr>\n",
       "    <tr>\n",
       "      <th>min</th>\n",
       "      <td>0.000000</td>\n",
       "      <td>101.000000</td>\n",
       "      <td>110.000000</td>\n",
       "      <td>100.000000</td>\n",
       "      <td>101.000000</td>\n",
       "      <td>2.000000</td>\n",
       "      <td>1.000000</td>\n",
       "      <td>0.000000</td>\n",
       "      <td>0.000000</td>\n",
       "      <td>0.000000</td>\n",
       "      <td>0.000000</td>\n",
       "    </tr>\n",
       "    <tr>\n",
       "      <th>25%</th>\n",
       "      <td>107.000000</td>\n",
       "      <td>150.000000</td>\n",
       "      <td>275.000000</td>\n",
       "      <td>130.000000</td>\n",
       "      <td>242.000000</td>\n",
       "      <td>2.000000</td>\n",
       "      <td>3341.000000</td>\n",
       "      <td>540.000000</td>\n",
       "      <td>870.000000</td>\n",
       "      <td>0.000000</td>\n",
       "      <td>720.000000</td>\n",
       "    </tr>\n",
       "    <tr>\n",
       "      <th>50%</th>\n",
       "      <td>244.000000</td>\n",
       "      <td>159.000000</td>\n",
       "      <td>293.000000</td>\n",
       "      <td>153.000000</td>\n",
       "      <td>293.000000</td>\n",
       "      <td>2.000000</td>\n",
       "      <td>8137.000000</td>\n",
       "      <td>2460.000000</td>\n",
       "      <td>2460.000000</td>\n",
       "      <td>390.000000</td>\n",
       "      <td>1200.000000</td>\n",
       "    </tr>\n",
       "    <tr>\n",
       "      <th>75%</th>\n",
       "      <td>453.000000</td>\n",
       "      <td>168.000000</td>\n",
       "      <td>314.000000</td>\n",
       "      <td>188.000000</td>\n",
       "      <td>358.000000</td>\n",
       "      <td>3.000000</td>\n",
       "      <td>14945.000000</td>\n",
       "      <td>4470.000000</td>\n",
       "      <td>5430.000000</td>\n",
       "      <td>1770.000000</td>\n",
       "      <td>2010.000000</td>\n",
       "    </tr>\n",
       "    <tr>\n",
       "      <th>max</th>\n",
       "      <td>2248.000000</td>\n",
       "      <td>498.000000</td>\n",
       "      <td>498.000000</td>\n",
       "      <td>498.000000</td>\n",
       "      <td>499.000000</td>\n",
       "      <td>3.000000</td>\n",
       "      <td>50079.000000</td>\n",
       "      <td>12810.000000</td>\n",
       "      <td>24150.000000</td>\n",
       "      <td>12180.000000</td>\n",
       "      <td>16140.000000</td>\n",
       "    </tr>\n",
       "  </tbody>\n",
       "</table>\n",
       "</div>"
      ],
      "text/plain": [
       "            prev_SOs       mean_amp       mean_dur         amp_SO  \\\n",
       "count  209307.000000  209307.000000  209307.000000  209307.000000   \n",
       "mean      318.905775     159.584147     294.731954     165.097106   \n",
       "std       278.287426      14.197175      30.417886      48.555057   \n",
       "min         0.000000     101.000000     110.000000     100.000000   \n",
       "25%       107.000000     150.000000     275.000000     130.000000   \n",
       "50%       244.000000     159.000000     293.000000     153.000000   \n",
       "75%       453.000000     168.000000     314.000000     188.000000   \n",
       "max      2248.000000     498.000000     498.000000     498.000000   \n",
       "\n",
       "              dur_SO    sleep_stage     sleep_time  deepsleep_time  \\\n",
       "count  209307.000000  209307.000000  209307.000000   209307.000000   \n",
       "mean      303.440578       2.497246    9972.214116     2790.530751   \n",
       "std        81.215447       0.499994    7653.116529     2398.602233   \n",
       "min       101.000000       2.000000       1.000000        0.000000   \n",
       "25%       242.000000       2.000000    3341.000000      540.000000   \n",
       "50%       293.000000       2.000000    8137.000000     2460.000000   \n",
       "75%       358.000000       3.000000   14945.000000     4470.000000   \n",
       "max       499.000000       3.000000   50079.000000    12810.000000   \n",
       "\n",
       "       lightsleep_time  remsleep_time  wakesleep_time  \n",
       "count    209307.000000  209307.000000   209307.000000  \n",
       "mean       3666.962118    1160.271467     1566.932019  \n",
       "std        3683.926816    1658.513102     1307.319302  \n",
       "min           0.000000       0.000000        0.000000  \n",
       "25%         870.000000       0.000000      720.000000  \n",
       "50%        2460.000000     390.000000     1200.000000  \n",
       "75%        5430.000000    1770.000000     2010.000000  \n",
       "max       24150.000000   12180.000000    16140.000000  "
      ]
     },
     "execution_count": 47,
     "metadata": {},
     "output_type": "execute_result"
    }
   ],
   "source": [
    "data_train.iloc[:,range(0,11)].describe()"
   ]
  },
  {
   "cell_type": "code",
   "execution_count": 48,
   "metadata": {},
   "outputs": [
    {
     "data": {
      "text/plain": [
       "sleep_stage\n",
       "2    105230\n",
       "3    104077\n",
       "dtype: int64"
      ]
     },
     "execution_count": 48,
     "metadata": {},
     "output_type": "execute_result"
    }
   ],
   "source": [
    "# the above output is actually not appropriate for the `sleep_stage` column as this column indicates the current sleep \n",
    "# stage, either 2 or 3\n",
    "data_train.groupby(['sleep_stage']).size()"
   ]
  },
  {
   "cell_type": "markdown",
   "metadata": {},
   "source": [
    "Boxplots of the mean duration of previous SOs and duration of the current SO:"
   ]
  },
  {
   "cell_type": "code",
   "execution_count": 67,
   "metadata": {},
   "outputs": [
    {
     "data": {
      "text/plain": [
       "<matplotlib.axes._subplots.AxesSubplot at 0x7ff7d3b01a10>"
      ]
     },
     "execution_count": 67,
     "metadata": {},
     "output_type": "execute_result"
    },
    {
     "data": {
      "image/png": "[encoded data removed]",
      "text/plain": [
       "<Figure size 432x288 with 1 Axes>"
      ]
     },
     "metadata": {
      "needs_background": "light"
     },
     "output_type": "display_data"
    }
   ],
   "source": [
    "data_train.iloc[:,[2,4]].boxplot()\n"
   ]
  },
  {
   "cell_type": "markdown",
   "metadata": {},
   "source": [
    "Boxplots of overall sleep time measurements:"
   ]
  },
  {
   "cell_type": "code",
   "execution_count": 69,
   "metadata": {},
   "outputs": [
    {
     "data": {
      "text/plain": [
       "<matplotlib.axes._subplots.AxesSubplot at 0x7ff7d396e190>"
      ]
     },
     "execution_count": 69,
     "metadata": {},
     "output_type": "execute_result"
    },
    {
     "data": {
      "image/png": "[encoded data removed]",
      "text/plain": [
       "<Figure size 432x288 with 1 Axes>"
      ]
     },
     "metadata": {
      "needs_background": "light"
     },
     "output_type": "display_data"
    }
   ],
   "source": [
    "data_train.iloc[:,6:11].boxplot(rot = 45)"
   ]
  },
  {
   "cell_type": "markdown",
   "metadata": {},
   "source": [
    "Line plot of the 1250 EEG features, for the first row."
   ]
  },
  {
   "cell_type": "code",
   "execution_count": 10,
   "metadata": {},
   "outputs": [
    {
     "data": {
      "text/plain": [
       "<matplotlib.axes._subplots.AxesSubplot at 0x7f235e713a10>"
      ]
     },
     "execution_count": 10,
     "metadata": {},
     "output_type": "execute_result"
    },
    {
     "data": {
      "image/png": "[encoded data removed]",
      "text/plain": [
       "<Figure size 432x288 with 1 Axes>"
      ]
     },
     "metadata": {
      "needs_background": "light"
     },
     "output_type": "display_data"
    }
   ],
   "source": [
    "data_train.iloc[0,11:].plot.line()"
   ]
  },
  {
   "cell_type": "markdown",
   "metadata": {},
   "source": [
    "**y_train** (labels)"
   ]
  },
  {
   "cell_type": "code",
   "execution_count": 22,
   "metadata": {},
   "outputs": [
    {
     "data": {
      "text/plain": [
       "(209307,)"
      ]
     },
     "execution_count": 22,
     "metadata": {},
     "output_type": "execute_result"
    }
   ],
   "source": [
    "y_train.shape"
   ]
  },
  {
   "cell_type": "code",
   "execution_count": 18,
   "metadata": {},
   "outputs": [],
   "source": [
    "unique, counts = np.unique(y_train, return_counts=True)"
   ]
  },
  {
   "cell_type": "code",
   "execution_count": 19,
   "metadata": {},
   "outputs": [
    {
     "data": {
      "text/plain": [
       "{0: 91472, 1: 62766, 2: 55069}"
      ]
     },
     "execution_count": 19,
     "metadata": {},
     "output_type": "execute_result"
    }
   ],
   "source": [
    "dict(zip(unique, counts))"
   ]
  },
  {
   "cell_type": "markdown",
   "metadata": {},
   "source": [
    "## Workflow"
   ]
  },
  {
   "cell_type": "markdown",
   "metadata": {},
   "source": [
    "The workflow should consist of two steps:\n",
    "\n",
    "1. feature extractor - it receives the full `data_train` pandas dataframe and should output an array-like structure representing the features extracted. \n",
    "2. classifier - this should implement a scikit-learn like classifier, that fits the model (using data output by the feature extractor) and predict on new (feature extracted) data. The prediction should be a label in {0, 1, 2} for each sample.\n",
    "\n",
    "The submission should consist of two files: `feature_extractor.py` and `classifier.py`"
   ]
  },
  {
   "cell_type": "markdown",
   "metadata": {},
   "source": [
    "## Simple Starting kit"
   ]
  },
  {
   "cell_type": "markdown",
   "metadata": {},
   "source": [
    "### Feature extractor"
   ]
  },
  {
   "cell_type": "markdown",
   "metadata": {},
   "source": [
    "This simple feature extractor includes:\n",
    "\n",
    "* the first 11 columns (which provide information about previous slow oscillations, the current oscillation and sleep duration details)\n",
    "* the maximum EEG signal\n",
    "* the minimum EEG signal\n",
    "* the mean EEG signal\n",
    "\n",
    "The feature extractor should be in a file named `feature_extractor.py` and placed in a folder named `submissions`."
   ]
  },
  {
   "cell_type": "code",
   "execution_count": 60,
   "metadata": {},
   "outputs": [],
   "source": [
    "class FeatureExtractor():\n",
    "    def __init__(self):\n",
    "        pass\n",
    "\n",
    "    def fit(self, X_df, y):\n",
    "        return self\n",
    "\n",
    "    def transform(self, X_df):\n",
    "\n",
    "        features = pd.DataFrame(X_df.iloc[:, :11])\n",
    "        features['Max'] = X_df.iloc[:,11:].max(axis = 1)\n",
    "        features['Min'] = X_df.iloc[:,11:].min(axis = 1)\n",
    "        features['Mean'] = X_df.iloc[:,11:].mean(axis = 1)\n",
    "\n",
    "        return features"
   ]
  },
  {
   "cell_type": "markdown",
   "metadata": {},
   "source": [
    "### Classifer"
   ]
  },
  {
   "cell_type": "markdown",
   "metadata": {},
   "source": [
    "A random forest classifier is used with `n_estimators` (number of trees) equal to 10.\n",
    "\n",
    "The classifier should be in a file named `classifier.py` and placed in a folder named `submissions` (with the `feature_extractor.py` file)"
   ]
  },
  {
   "cell_type": "code",
   "execution_count": 61,
   "metadata": {},
   "outputs": [],
   "source": [
    "from sklearn.base import BaseEstimator\n",
    "from sklearn.ensemble import RandomForestClassifier\n",
    "\n",
    "\n",
    "class Classifier(BaseEstimator):\n",
    "    def __init__(self):\n",
    "        self.clf = RandomForestClassifier(n_estimators=10)\n",
    "\n",
    "    def fit(self, X, y):\n",
    "        self.clf.fit(X, y)\n",
    "\n",
    "    def predict(self, X):\n",
    "        return self.clf.predict(X)\n"
   ]
  },
  {
   "cell_type": "markdown",
   "metadata": {},
   "source": [
    "## Evaluation"
   ]
  },
  {
   "cell_type": "markdown",
   "metadata": {},
   "source": [
    "The model will be evaluated using a cross-validation approach (8-fold cross validation). "
   ]
  },
  {
   "cell_type": "code",
   "execution_count": 58,
   "metadata": {},
   "outputs": [],
   "source": [
    "from sklearn.pipeline import make_pipeline\n",
    "from sklearn.model_selection import cross_validate\n",
    "from problem import get_cv\n",
    "\n",
    "def evaluation(X, y):\n",
    "    pipe = make_pipeline(FeatureExtractor(), Classifier())\n",
    "    cv = get_cv(X, y)\n",
    "    results = cross_validate(pipe, X, y, scoring=['accuracy'], cv=cv,\n",
    "                             verbose=1, return_train_score=True,\n",
    "                             n_jobs=1)\n",
    "    \n",
    "    return results"
   ]
  },
  {
   "cell_type": "markdown",
   "metadata": {},
   "source": [
    "You can test your results locally using the `evaluation()` function:"
   ]
  },
  {
   "cell_type": "code",
   "execution_count": 62,
   "metadata": {},
   "outputs": [
    {
     "name": "stderr",
     "output_type": "stream",
     "text": [
      "[Parallel(n_jobs=1)]: Using backend SequentialBackend with 1 concurrent workers.\n",
      "[Parallel(n_jobs=1)]: Done   8 out of   8 | elapsed:   44.4s finished\n"
     ]
    }
   ],
   "source": [
    "results = evaluation(data_train, y_train)"
   ]
  },
  {
   "cell_type": "code",
   "execution_count": 63,
   "metadata": {},
   "outputs": [
    {
     "name": "stdout",
     "output_type": "stream",
     "text": [
      "Training score Accuracy: 0.982 +- 0.000\n",
      "Validation score Accuracy: 0.468 +- 0.002 \n",
      "\n"
     ]
    }
   ],
   "source": [
    "print(\"Training score Accuracy: {:.3f} +- {:.3f}\".format(np.mean(results['train_accuracy']),\n",
    "                                                        np.std(results['train_accuracy'])))\n",
    "print(\"Validation score Accuracy: {:.3f} +- {:.3f} \\n\".format(np.mean(results['test_accuracy']),\n",
    "                                                          np.std(results['test_accuracy'])))"
   ]
  },
  {
   "cell_type": "markdown",
   "metadata": {},
   "source": [
    "**to do** \n",
    "\n",
    "- another example FE and classifier? \n",
    "- suggestions as to directions to investigate \n",
    "\n",
    "(talk to Alex)"
   ]
  },
  {
   "cell_type": "code",
   "execution_count": null,
   "metadata": {},
   "outputs": [],
   "source": []
  },
  {
   "cell_type": "markdown",
   "metadata": {},
   "source": [
    "## Submitting to the online challenge: [ramp.studio](http://ramp.studio)"
   ]
  },
  {
   "cell_type": "markdown",
   "metadata": {},
   "source": [
    "### Local testing (before submission)\n",
    "\n",
    "It is <b><span style=\"color:red\">important that you test your submission files before submitting them</span></b>. For this we provide a unit test. Note that the test runs on your files in [`submissions/starting_kit`](http://localhost:8890/tree/submissions/starting_kit).\n",
    "\n",
    "First install ramp-workflow with `pip install ramp-workflow` **(does this work??)** or install it from the [github repo](https://github.com/paris-saclay-cds/ramp-workflow). \n",
    "\n",
    "Make sure that the python files `feature_extractor.py`, `regressor.py` (the version you wish to test) are in the [`submissions/starting_kit`](http://localhost:8890/tree/submissions/starting_kit) folder, and the data `x_test.h5`, `x_train.h5`, `y_test.h5` and `y_train.h5` are in [`data`](http://localhost:8888/tree/data). Then run\n",
    "\n",
    "```ramp_test_submission```\n",
    "\n",
    "If it runs and print training and test errors on each fold, then you can submit the code."
   ]
  },
  {
   "cell_type": "markdown",
   "metadata": {},
   "source": [
    "### Online submission\n",
    "\n",
    "Once you found a good model, you can submit them to [ramp.studio](http://www.ramp.studio) to enter the online challenge. First, if it is your first time using the RAMP platform, [sign up](http://www.ramp.studio/sign_up), otherwise [log in](http://www.ramp.studio/login). Then sign up to the event **ramp-event ??**. Sign up for the event. Both signups are controled by RAMP administrators, so there **can be a delay between asking for signup and being able to submit**.\n",
    "\n",
    "Once your signup request is accepted, you can go to your **sandbox ??** and copy-paste. You can also create a new starting-kit in the `submissions` folder containing both `feature_extractor.py` and `classifier.py` and upload these files directly. You can check the starting-kit ([`feature_extractor.py`](/edit/submissions/starting_kit/feature_extractor.py) and [`classifier.py`](/edit/submissions/starting_kit/classifier.py)) for an example. The submission is trained and tested on our backend in a similar way as `ramp_test_submission` does locally. While your submission is waiting in the queue and being trained, you can find it in the \"New submissions (pending training)\" table in [my submissions]**add link ??**. Once it is trained, you get a mail, and your submission shows up on the [public leaderboard]**add link ??**.\n",
    "\n",
    "If there is an error (despite having tested your submission locally with `ramp_test_submission`), it will show up in the \"Failed submissions\" table in [my submissions]**add link**. You can click on the error to see part of the trace.\n",
    "\n",
    "After submission, do not forget to give credits to the previous submissions you reused or integrated into your submission.\n",
    "\n",
    "The data set we use at the backend is usually different from what you find in the starting kit, so the score may be different.\n",
    "\n",
    "The usual way to work with RAMP is to explore solutions, add feature transformations, select models, perhaps do some AutoML/hyperopt, etc., _locally_, and checking them with `ramp_test_submission`. The script prints mean cross-validation scores \n",
    "\n",
    "The official score in this RAMP (the first score column after \"historical contributivity\" on the [leaderboard]**add link ??**) is Accuracy. When the score is good enough, you can submit it at the RAMP."
   ]
  },
  {
   "cell_type": "markdown",
   "metadata": {},
   "source": [
    "## More information\n",
    "\n",
    "You can find more information in the [README](https://github.com/paris-saclay-cds/ramp-workflow/blob/master/README.md) of the [ramp-workflow library](https://github.com/paris-saclay-cds/ramp-workflow)."
   ]
  },
  {
   "cell_type": "markdown",
   "metadata": {},
   "source": [
    "## Questions\n",
    "\n",
    "Questions related to the starting kit should be asked on the [issue tracker](https://github.com/ramp-kits/autism/issues). The RAMP site administrators can be pinged at the [RAMP slack team](https://ramp-studio.slack.com/shared_invite/MTg1NDUxNDAyNDk2LTE0OTUzOTcwMDQtMThlOWY1NWU0Mg) in the **??** channel."
   ]
  }
 ],
 "metadata": {
  "kernelspec": {
   "display_name": "Python 3",
   "language": "python",
   "name": "python3"
  },
  "language_info": {
   "codemirror_mode": {
    "name": "ipython",
    "version": 3
   },
   "file_extension": ".py",
   "mimetype": "text/x-python",
   "name": "python",
   "nbconvert_exporter": "python",
   "pygments_lexer": "ipython3",
   "version": "3.7.4"
  }
 },
 "nbformat": 4,
 "nbformat_minor": 2
}
